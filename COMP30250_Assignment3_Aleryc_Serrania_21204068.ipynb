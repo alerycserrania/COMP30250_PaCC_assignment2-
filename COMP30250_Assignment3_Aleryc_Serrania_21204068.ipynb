{
 "cells": [
  {
   "cell_type": "markdown",
   "metadata": {},
   "source": [
    "The variants for this assignments are the following:\n",
    "\n",
    "1. Compute the norm in two successive steps: parallelisation of matrix multiplication, then parallelisation of matrix norm computation\n",
    "2. Left matrix is horizontally partitioned\n",
    "3. Compute 1-norm (maximum absolute column sum norm)\n",
    "\n",
    "Command `cat /proc/cpuinfo` displays 16 processors, therefore `p` will be 16 for the parallel programs. "
   ]
  },
  {
   "cell_type": "code",
   "execution_count": 8,
   "metadata": {},
   "outputs": [],
   "source": [
    "import pandas as pd\n",
    "import matplotlib.pyplot as plt\n",
    "import matplotlib as mpl\n",
    "import numpy as np\n",
    "import matplotlib.gridspec as gridspec\n",
    "\n",
    "plt.style.use('ggplot')"
   ]
  },
  {
   "cell_type": "markdown",
   "metadata": {},
   "source": [
    "# Benchmarks of parallel and serial programs for difference matrix size\n",
    "\n",
    "## Benchmark of parallel programs"
   ]
  },
  {
   "cell_type": "code",
   "execution_count": 9,
   "metadata": {},
   "outputs": [
    {
     "data": {
      "text/html": [
       "<div>\n",
       "<style scoped>\n",
       "    .dataframe tbody tr th:only-of-type {\n",
       "        vertical-align: middle;\n",
       "    }\n",
       "\n",
       "    .dataframe tbody tr th {\n",
       "        vertical-align: top;\n",
       "    }\n",
       "\n",
       "    .dataframe thead th {\n",
       "        text-align: right;\n",
       "    }\n",
       "</style>\n",
       "<table border=\"1\" class=\"dataframe\">\n",
       "  <thead>\n",
       "    <tr style=\"text-align: right;\">\n",
       "      <th></th>\n",
       "      <th>filename</th>\n",
       "      <th>matrix_size</th>\n",
       "      <th>nb_threads</th>\n",
       "      <th>timing</th>\n",
       "    </tr>\n",
       "  </thead>\n",
       "  <tbody>\n",
       "    <tr>\n",
       "      <th>0</th>\n",
       "      <td>matrixnorm.out</td>\n",
       "      <td>16</td>\n",
       "      <td>16</td>\n",
       "      <td>0.002613</td>\n",
       "    </tr>\n",
       "    <tr>\n",
       "      <th>1</th>\n",
       "      <td>matrixnorm.out</td>\n",
       "      <td>32</td>\n",
       "      <td>16</td>\n",
       "      <td>0.003028</td>\n",
       "    </tr>\n",
       "    <tr>\n",
       "      <th>2</th>\n",
       "      <td>matrixnorm.out</td>\n",
       "      <td>64</td>\n",
       "      <td>16</td>\n",
       "      <td>0.003179</td>\n",
       "    </tr>\n",
       "    <tr>\n",
       "      <th>3</th>\n",
       "      <td>matrixnorm.out</td>\n",
       "      <td>128</td>\n",
       "      <td>16</td>\n",
       "      <td>0.003454</td>\n",
       "    </tr>\n",
       "    <tr>\n",
       "      <th>4</th>\n",
       "      <td>matrixnorm.out</td>\n",
       "      <td>256</td>\n",
       "      <td>16</td>\n",
       "      <td>0.003391</td>\n",
       "    </tr>\n",
       "    <tr>\n",
       "      <th>5</th>\n",
       "      <td>matrixnorm.out</td>\n",
       "      <td>512</td>\n",
       "      <td>16</td>\n",
       "      <td>0.014273</td>\n",
       "    </tr>\n",
       "    <tr>\n",
       "      <th>6</th>\n",
       "      <td>matrixnorm.out</td>\n",
       "      <td>1024</td>\n",
       "      <td>16</td>\n",
       "      <td>0.054600</td>\n",
       "    </tr>\n",
       "    <tr>\n",
       "      <th>7</th>\n",
       "      <td>matrixnorm.out</td>\n",
       "      <td>2048</td>\n",
       "      <td>16</td>\n",
       "      <td>0.304863</td>\n",
       "    </tr>\n",
       "    <tr>\n",
       "      <th>8</th>\n",
       "      <td>matrixnorm.out</td>\n",
       "      <td>4096</td>\n",
       "      <td>16</td>\n",
       "      <td>3.092737</td>\n",
       "    </tr>\n",
       "    <tr>\n",
       "      <th>9</th>\n",
       "      <td>matrixnorm.out</td>\n",
       "      <td>8192</td>\n",
       "      <td>16</td>\n",
       "      <td>22.181388</td>\n",
       "    </tr>\n",
       "  </tbody>\n",
       "</table>\n",
       "</div>"
      ],
      "text/plain": [
       "         filename  matrix_size  nb_threads     timing\n",
       "0  matrixnorm.out           16          16   0.002613\n",
       "1  matrixnorm.out           32          16   0.003028\n",
       "2  matrixnorm.out           64          16   0.003179\n",
       "3  matrixnorm.out          128          16   0.003454\n",
       "4  matrixnorm.out          256          16   0.003391\n",
       "5  matrixnorm.out          512          16   0.014273\n",
       "6  matrixnorm.out         1024          16   0.054600\n",
       "7  matrixnorm.out         2048          16   0.304863\n",
       "8  matrixnorm.out         4096          16   3.092737\n",
       "9  matrixnorm.out         8192          16  22.181388"
      ]
     },
     "execution_count": 9,
     "metadata": {},
     "output_type": "execute_result"
    }
   ],
   "source": [
    "parallel = pd.read_csv(\"data_parallel.csv\")\n",
    "parallel"
   ]
  },
  {
   "cell_type": "markdown",
   "metadata": {},
   "source": [
    "## Benchmark of serial programs"
   ]
  },
  {
   "cell_type": "code",
   "execution_count": 10,
   "metadata": {},
   "outputs": [
    {
     "data": {
      "text/html": [
       "<div>\n",
       "<style scoped>\n",
       "    .dataframe tbody tr th:only-of-type {\n",
       "        vertical-align: middle;\n",
       "    }\n",
       "\n",
       "    .dataframe tbody tr th {\n",
       "        vertical-align: top;\n",
       "    }\n",
       "\n",
       "    .dataframe thead th {\n",
       "        text-align: right;\n",
       "    }\n",
       "</style>\n",
       "<table border=\"1\" class=\"dataframe\">\n",
       "  <thead>\n",
       "    <tr style=\"text-align: right;\">\n",
       "      <th></th>\n",
       "      <th>filename</th>\n",
       "      <th>matrix_size</th>\n",
       "      <th>nb_threads</th>\n",
       "      <th>timing</th>\n",
       "    </tr>\n",
       "  </thead>\n",
       "  <tbody>\n",
       "    <tr>\n",
       "      <th>0</th>\n",
       "      <td>matrixnorm_serial.out</td>\n",
       "      <td>16</td>\n",
       "      <td>1</td>\n",
       "      <td>0.000028</td>\n",
       "    </tr>\n",
       "    <tr>\n",
       "      <th>1</th>\n",
       "      <td>matrixnorm_serial.out</td>\n",
       "      <td>32</td>\n",
       "      <td>1</td>\n",
       "      <td>0.000052</td>\n",
       "    </tr>\n",
       "    <tr>\n",
       "      <th>2</th>\n",
       "      <td>matrixnorm_serial.out</td>\n",
       "      <td>64</td>\n",
       "      <td>1</td>\n",
       "      <td>0.000200</td>\n",
       "    </tr>\n",
       "    <tr>\n",
       "      <th>3</th>\n",
       "      <td>matrixnorm_serial.out</td>\n",
       "      <td>128</td>\n",
       "      <td>1</td>\n",
       "      <td>0.000806</td>\n",
       "    </tr>\n",
       "    <tr>\n",
       "      <th>4</th>\n",
       "      <td>matrixnorm_serial.out</td>\n",
       "      <td>256</td>\n",
       "      <td>1</td>\n",
       "      <td>0.004914</td>\n",
       "    </tr>\n",
       "    <tr>\n",
       "      <th>5</th>\n",
       "      <td>matrixnorm_serial.out</td>\n",
       "      <td>512</td>\n",
       "      <td>1</td>\n",
       "      <td>0.032421</td>\n",
       "    </tr>\n",
       "    <tr>\n",
       "      <th>6</th>\n",
       "      <td>matrixnorm_serial.out</td>\n",
       "      <td>1024</td>\n",
       "      <td>1</td>\n",
       "      <td>0.246230</td>\n",
       "    </tr>\n",
       "    <tr>\n",
       "      <th>7</th>\n",
       "      <td>matrixnorm_serial.out</td>\n",
       "      <td>2048</td>\n",
       "      <td>1</td>\n",
       "      <td>1.863570</td>\n",
       "    </tr>\n",
       "    <tr>\n",
       "      <th>8</th>\n",
       "      <td>matrixnorm_serial.out</td>\n",
       "      <td>4096</td>\n",
       "      <td>1</td>\n",
       "      <td>16.219560</td>\n",
       "    </tr>\n",
       "    <tr>\n",
       "      <th>9</th>\n",
       "      <td>matrixnorm_serial.out</td>\n",
       "      <td>8192</td>\n",
       "      <td>1</td>\n",
       "      <td>120.093703</td>\n",
       "    </tr>\n",
       "  </tbody>\n",
       "</table>\n",
       "</div>"
      ],
      "text/plain": [
       "                filename  matrix_size  nb_threads      timing\n",
       "0  matrixnorm_serial.out           16           1    0.000028\n",
       "1  matrixnorm_serial.out           32           1    0.000052\n",
       "2  matrixnorm_serial.out           64           1    0.000200\n",
       "3  matrixnorm_serial.out          128           1    0.000806\n",
       "4  matrixnorm_serial.out          256           1    0.004914\n",
       "5  matrixnorm_serial.out          512           1    0.032421\n",
       "6  matrixnorm_serial.out         1024           1    0.246230\n",
       "7  matrixnorm_serial.out         2048           1    1.863570\n",
       "8  matrixnorm_serial.out         4096           1   16.219560\n",
       "9  matrixnorm_serial.out         8192           1  120.093703"
      ]
     },
     "execution_count": 10,
     "metadata": {},
     "output_type": "execute_result"
    }
   ],
   "source": [
    "serial = pd.read_csv(\"data_serial.csv\")\n",
    "serial"
   ]
  },
  {
   "cell_type": "markdown",
   "metadata": {},
   "source": [
    "# Dependence of the execution time of the program on the matrix size n"
   ]
  },
  {
   "cell_type": "code",
   "execution_count": 11,
   "metadata": {},
   "outputs": [
    {
     "data": {
      "text/plain": [
       "Text(0.5, 1.0, 'Execution time of parallel programs in function of the matrix size')"
      ]
     },
     "execution_count": 11,
     "metadata": {},
     "output_type": "execute_result"
    },
    {
     "data": {
      "image/png": "[encoded data removed]",
      "text/plain": [
       "<Figure size 720x360 with 1 Axes>"
      ]
     },
     "metadata": {},
     "output_type": "display_data"
    }
   ],
   "source": [
    "fig = plt.figure(constrained_layout=True, figsize=(10, 5))\n",
    "ax = fig.add_subplot(111)\n",
    "parallel.plot.line(x='matrix_size', y='timing', ax=ax)\n",
    "ax.set_xlabel('matrix size')\n",
    "ax.set_ylabel('timing (sec)')\n",
    "ax.set_title('Execution time of parallel programs in function of the matrix size')"
   ]
  },
  {
   "cell_type": "markdown",
   "metadata": {},
   "source": [
    "# Speedup over a serial counterpart of the program\n",
    "\n",
    "Speedup is calculated as follows: \n",
    "$$S(m) = \\frac{T_{serial}(m)}{T_{parallel}(m)}$$ \n",
    "where $m$ is matrix size"
   ]
  },
  {
   "cell_type": "code",
   "execution_count": 12,
   "metadata": {},
   "outputs": [
    {
     "data": {
      "text/html": [
       "<div>\n",
       "<style scoped>\n",
       "    .dataframe tbody tr th:only-of-type {\n",
       "        vertical-align: middle;\n",
       "    }\n",
       "\n",
       "    .dataframe tbody tr th {\n",
       "        vertical-align: top;\n",
       "    }\n",
       "\n",
       "    .dataframe thead th {\n",
       "        text-align: right;\n",
       "    }\n",
       "</style>\n",
       "<table border=\"1\" class=\"dataframe\">\n",
       "  <thead>\n",
       "    <tr style=\"text-align: right;\">\n",
       "      <th></th>\n",
       "      <th>filename</th>\n",
       "      <th>matrix_size</th>\n",
       "      <th>nb_threads</th>\n",
       "      <th>timing</th>\n",
       "      <th>speedup</th>\n",
       "    </tr>\n",
       "  </thead>\n",
       "  <tbody>\n",
       "    <tr>\n",
       "      <th>0</th>\n",
       "      <td>matrixnorm.out</td>\n",
       "      <td>16</td>\n",
       "      <td>16</td>\n",
       "      <td>0.002613</td>\n",
       "      <td>0.010669</td>\n",
       "    </tr>\n",
       "    <tr>\n",
       "      <th>1</th>\n",
       "      <td>matrixnorm.out</td>\n",
       "      <td>32</td>\n",
       "      <td>16</td>\n",
       "      <td>0.003028</td>\n",
       "      <td>0.017028</td>\n",
       "    </tr>\n",
       "    <tr>\n",
       "      <th>2</th>\n",
       "      <td>matrixnorm.out</td>\n",
       "      <td>64</td>\n",
       "      <td>16</td>\n",
       "      <td>0.003179</td>\n",
       "      <td>0.062768</td>\n",
       "    </tr>\n",
       "    <tr>\n",
       "      <th>3</th>\n",
       "      <td>matrixnorm.out</td>\n",
       "      <td>128</td>\n",
       "      <td>16</td>\n",
       "      <td>0.003454</td>\n",
       "      <td>0.233375</td>\n",
       "    </tr>\n",
       "    <tr>\n",
       "      <th>4</th>\n",
       "      <td>matrixnorm.out</td>\n",
       "      <td>256</td>\n",
       "      <td>16</td>\n",
       "      <td>0.003391</td>\n",
       "      <td>1.449025</td>\n",
       "    </tr>\n",
       "    <tr>\n",
       "      <th>5</th>\n",
       "      <td>matrixnorm.out</td>\n",
       "      <td>512</td>\n",
       "      <td>16</td>\n",
       "      <td>0.014273</td>\n",
       "      <td>2.271476</td>\n",
       "    </tr>\n",
       "    <tr>\n",
       "      <th>6</th>\n",
       "      <td>matrixnorm.out</td>\n",
       "      <td>1024</td>\n",
       "      <td>16</td>\n",
       "      <td>0.054600</td>\n",
       "      <td>4.509736</td>\n",
       "    </tr>\n",
       "    <tr>\n",
       "      <th>7</th>\n",
       "      <td>matrixnorm.out</td>\n",
       "      <td>2048</td>\n",
       "      <td>16</td>\n",
       "      <td>0.304863</td>\n",
       "      <td>6.112822</td>\n",
       "    </tr>\n",
       "    <tr>\n",
       "      <th>8</th>\n",
       "      <td>matrixnorm.out</td>\n",
       "      <td>4096</td>\n",
       "      <td>16</td>\n",
       "      <td>3.092737</td>\n",
       "      <td>5.244403</td>\n",
       "    </tr>\n",
       "    <tr>\n",
       "      <th>9</th>\n",
       "      <td>matrixnorm.out</td>\n",
       "      <td>8192</td>\n",
       "      <td>16</td>\n",
       "      <td>22.181388</td>\n",
       "      <td>5.414165</td>\n",
       "    </tr>\n",
       "  </tbody>\n",
       "</table>\n",
       "</div>"
      ],
      "text/plain": [
       "         filename  matrix_size  nb_threads     timing   speedup\n",
       "0  matrixnorm.out           16          16   0.002613  0.010669\n",
       "1  matrixnorm.out           32          16   0.003028  0.017028\n",
       "2  matrixnorm.out           64          16   0.003179  0.062768\n",
       "3  matrixnorm.out          128          16   0.003454  0.233375\n",
       "4  matrixnorm.out          256          16   0.003391  1.449025\n",
       "5  matrixnorm.out          512          16   0.014273  2.271476\n",
       "6  matrixnorm.out         1024          16   0.054600  4.509736\n",
       "7  matrixnorm.out         2048          16   0.304863  6.112822\n",
       "8  matrixnorm.out         4096          16   3.092737  5.244403\n",
       "9  matrixnorm.out         8192          16  22.181388  5.414165"
      ]
     },
     "execution_count": 12,
     "metadata": {},
     "output_type": "execute_result"
    }
   ],
   "source": [
    "parallel['speedup'] = serial['timing'] / parallel['timing']\n",
    "parallel"
   ]
  },
  {
   "cell_type": "code",
   "execution_count": 13,
   "metadata": {},
   "outputs": [
    {
     "data": {
      "text/plain": [
       "Text(0.5, 1.0, 'Speedup of parallel programs over their serial counterparts')"
      ]
     },
     "execution_count": 13,
     "metadata": {},
     "output_type": "execute_result"
    },
    {
     "data": {
      "image/png": "[encoded data removed]",
      "text/plain": [
       "<Figure size 720x360 with 1 Axes>"
      ]
     },
     "metadata": {},
     "output_type": "display_data"
    }
   ],
   "source": [
    "fig = plt.figure(constrained_layout=True, figsize=(10, 5))\n",
    "ax = fig.add_subplot(111)\n",
    "parallel.plot.line(x='matrix_size', y='speedup', ax=ax)\n",
    "ax.set_xlabel('matrix size')\n",
    "ax.set_ylabel('speedup')\n",
    "ax.set_title('Speedup of parallel programs over their serial counterparts')"
   ]
  },
  {
   "cell_type": "markdown",
   "metadata": {},
   "source": [
    "The results show that we have significant speedup for matrix of size n > 200 and the speedup stabilises around 5.5 for bigger matrices. \n",
    "\n",
    "The parallelisation is inefficient for small matrices as it reduces the processing speed. This problem stems from the overhead of creating and initializing new threads.\n",
    "\n",
    "Speedup stabilisation for matrix of size n > 2000 is due to the fact that this overhead cost is negligible compared to the computation time of matrix slices."
   ]
  }
 ],
 "metadata": {
  "interpreter": {
   "hash": "33fa5f6e416b87f8609131718fa65b71d8145a1257be68be3d404c8842433359"
  },
  "kernelspec": {
   "display_name": "Python 3.8.8 64-bit ('base': conda)",
   "name": "python3"
  },
  "language_info": {
   "codemirror_mode": {
    "name": "ipython",
    "version": 3
   },
   "file_extension": ".py",
   "mimetype": "text/x-python",
   "name": "python",
   "nbconvert_exporter": "python",
   "pygments_lexer": "ipython3",
   "version": "3.8.8"
  },
  "orig_nbformat": 4
 },
 "nbformat": 4,
 "nbformat_minor": 2
}
